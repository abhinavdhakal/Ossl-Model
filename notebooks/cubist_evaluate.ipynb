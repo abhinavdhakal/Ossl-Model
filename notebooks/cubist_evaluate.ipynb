{
 "cells": [
  {
   "cell_type": "code",
   "execution_count": 2,
   "metadata": {},
   "outputs": [],
   "source": [
    "import pandas as pd\n",
    "from cubist import Cubist\n",
    "from sklearn.metrics import mean_squared_error, r2_score\n",
    "import numpy as np\n",
    "import joblib\n",
    "import os\n",
    "import json\n",
    "import matplotlib.pyplot as plt\n",
    "import datetime\n",
    "import csv\n",
    "\n"
   ]
  },
  {
   "cell_type": "code",
   "execution_count": 4,
   "metadata": {},
   "outputs": [
    {
     "name": "stdout",
     "output_type": "stream",
     "text": [
      "Loading model from: ./../trained_models/cubist_model_mir_c.tot_usda.a622_w.pct_2500_logged.joblib\n"
     ]
    }
   ],
   "source": [
    "model_path = f'./../trained_models/cubist_model_mir_c.tot_usda.a622_w.pct_2500_logged.joblib'\n",
    "        \n",
    "        \n",
    "        \n",
    "\n",
    "\n",
    "\n",
    "print(f\"Loading model from: {model_path}\")\n",
    "model = joblib.load(model_path)"
   ]
  },
  {
   "cell_type": "code",
   "execution_count": 14,
   "metadata": {},
   "outputs": [
    {
     "data": {
      "text/plain": [
       "{'auto': False,\n",
       " 'cv': None,\n",
       " 'extrapolation': 0.05,\n",
       " 'n_committees': 18,\n",
       " 'n_rules': 500,\n",
       " 'neighbors': 9,\n",
       " 'random_state': None,\n",
       " 'sample': None,\n",
       " 'target_label': 'outcome',\n",
       " 'unbiased': False,\n",
       " 'verbose': 0}"
      ]
     },
     "execution_count": 14,
     "metadata": {},
     "output_type": "execute_result"
    }
   ],
   "source": []
  }
 ],
 "metadata": {
  "kernelspec": {
   "display_name": "Python 3",
   "language": "python",
   "name": "python3"
  },
  "language_info": {
   "codemirror_mode": {
    "name": "ipython",
    "version": 3
   },
   "file_extension": ".py",
   "mimetype": "text/x-python",
   "name": "python",
   "nbconvert_exporter": "python",
   "pygments_lexer": "ipython3",
   "version": "3.11.8"
  }
 },
 "nbformat": 4,
 "nbformat_minor": 2
}
